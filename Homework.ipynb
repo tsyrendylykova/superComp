{
 "cells": [
  {
   "cell_type": "code",
   "execution_count": 3,
   "metadata": {
    "collapsed": true
   },
   "outputs": [],
   "source": [
    "import numpy as np\n",
    "import random"
   ]
  },
  {
   "cell_type": "code",
   "execution_count": 27,
   "metadata": {},
   "outputs": [
    {
     "data": {
      "text/plain": [
       "([59, 78, 77], [38, 21, 81])"
      ]
     },
     "execution_count": 27,
     "metadata": {},
     "output_type": "execute_result"
    }
   ],
   "source": [
    "x_i = random.sample(range(100), 3)\n",
    "y_i = random.sample(range(100), 3)\n",
    "L = random.sample(range(100), 6)\n",
    "x_i, y_i"
   ]
  },
  {
   "cell_type": "code",
   "execution_count": 32,
   "metadata": {},
   "outputs": [
    {
     "data": {
      "text/plain": [
       "[(76, 6), (68, 26), (69, 46)]"
      ]
     },
     "execution_count": 32,
     "metadata": {},
     "output_type": "execute_result"
    }
   ],
   "source": [
    "it = iter(L)\n",
    "x_y = list(zip(it, it))\n",
    "x_y"
   ]
  },
  {
   "cell_type": "code",
   "execution_count": 36,
   "metadata": {},
   "outputs": [
    {
     "name": "stdout",
     "output_type": "stream",
     "text": [
      "(76, 6) (68, 26)\n",
      "0.0021551724137931034\n",
      "(76, 6) (69, 46)\n",
      "0.0006064281382656155\n",
      "(68, 26) (69, 46)\n",
      "0.0024937655860349127\n"
     ]
    },
    {
     "data": {
      "text/plain": [
       "0.005255366138093631"
      ]
     },
     "execution_count": 36,
     "metadata": {},
     "output_type": "execute_result"
    }
   ],
   "source": [
    "F = 0\n",
    "for i in range(0, len(x_i)):\n",
    "    for j in range(i+1, len(x_i)):\n",
    "        print(x_y[i], x_y[j])\n",
    "        ff = 1 / ((x_y[i][0] - x_y[j][0])**2 + (x_y[i][1] - x_y[j][1])**2)\n",
    "        print(ff)\n",
    "        F += ff\n",
    "F"
   ]
  }
 ],
 "metadata": {
  "kernelspec": {
   "display_name": "Python 3",
   "language": "python",
   "name": "python3"
  },
  "language_info": {
   "codemirror_mode": {
    "name": "ipython",
    "version": 3
   },
   "file_extension": ".py",
   "mimetype": "text/x-python",
   "name": "python",
   "nbconvert_exporter": "python",
   "pygments_lexer": "ipython3",
   "version": "3.6.3"
  }
 },
 "nbformat": 4,
 "nbformat_minor": 2
}
